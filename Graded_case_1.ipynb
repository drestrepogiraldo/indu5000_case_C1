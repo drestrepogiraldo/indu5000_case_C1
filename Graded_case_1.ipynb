{
 "cells": [
  {
   "cell_type": "markdown",
   "source": "# Graded Case 1",
   "metadata": {
    "tags": [],
    "is_collapsed": false,
    "cell_id": "00000-2e37674b-5042-4e00-8a05-e1d4c046e8d1",
    "deepnote_cell_type": "text-cell-h1"
   }
  },
  {
   "cell_type": "markdown",
   "source": "## Business Problem",
   "metadata": {
    "tags": [],
    "is_collapsed": false,
    "cell_id": "00001-a89e94f0-9130-4031-9933-154344fa1d07",
    "deepnote_cell_type": "text-cell-h2"
   }
  },
  {
   "cell_type": "markdown",
   "source": "You have started an expansion plan for the business. So, during last month (August 2021) you ha decided to increase the inventory of your products and add that information to your database. So each purchase you made to your suppliers was recorded and saved in a table called pedidos.\nNow that august has passed you want to have a better understanding of the purchases made.",
   "metadata": {
    "tags": [],
    "cell_id": "00002-7a034f25-dfdb-4aea-bd96-05b43afea8e2",
    "deepnote_cell_type": "markdown"
   }
  },
  {
   "cell_type": "markdown",
   "source": "## Table Creation",
   "metadata": {
    "tags": [],
    "is_collapsed": false,
    "cell_id": "00003-cc320c20-b5ca-428f-b0c3-1fc2c8619838",
    "deepnote_cell_type": "text-cell-h2"
   }
  },
  {
   "cell_type": "markdown",
   "source": "We are going to use the same database created on class: ElectroSQL\nBut, in this case we are going to add a new table to the database. Use the queries provided inside the folder Data to create the new table in your instance at elephantSQL.com.\n",
   "metadata": {
    "tags": [],
    "cell_id": "00004-7af5a3d8-4081-4f18-be90-da047282f025",
    "deepnote_cell_type": "markdown"
   }
  },
  {
   "cell_type": "markdown",
   "source": "## Question 1",
   "metadata": {
    "tags": [],
    "is_collapsed": false,
    "cell_id": "00007-81bd78c9-c258-4a87-9585-0631ece11fd6",
    "deepnote_cell_type": "text-cell-h2"
   }
  },
  {
   "cell_type": "markdown",
   "source": "How many purchases were recorded?",
   "metadata": {
    "tags": [],
    "cell_id": "00008-56f532fa-89ea-40b4-919b-3f2e963d9de2",
    "deepnote_cell_type": "markdown"
   }
  },
  {
   "cell_type": "markdown",
   "source": "## Question 2",
   "metadata": {
    "tags": [],
    "is_collapsed": false,
    "cell_id": "00010-f6b74cf9-a602-4a0d-b55f-96c9f72509b9",
    "deepnote_cell_type": "text-cell-h2"
   }
  },
  {
   "cell_type": "markdown",
   "source": "What is the average amount of products bought in the purchases?",
   "metadata": {
    "tags": [],
    "cell_id": "00011-65e3a0d5-13b9-420d-bee4-18db4f1e53b5",
    "deepnote_cell_type": "markdown"
   }
  },
  {
   "cell_type": "markdown",
   "source": "## Question 3",
   "metadata": {
    "tags": [],
    "is_collapsed": false,
    "cell_id": "00013-1c3b2098-3df3-44d2-b637-63320cbbf6aa",
    "deepnote_cell_type": "text-cell-h2"
   }
  },
  {
   "cell_type": "markdown",
   "source": "In how many purchases were bought more than 5 products?",
   "metadata": {
    "tags": [],
    "cell_id": "00014-f80332d4-d874-4448-a853-4e99f2ef9adc",
    "deepnote_cell_type": "markdown"
   }
  },
  {
   "cell_type": "markdown",
   "source": "## Question 4",
   "metadata": {
    "tags": [],
    "is_collapsed": false,
    "cell_id": "00016-c664e07c-e95a-4601-8299-5d613f57d8cc",
    "deepnote_cell_type": "text-cell-h2"
   }
  },
  {
   "cell_type": "markdown",
   "source": "How many purchases were made of each one of the products?\nTip: Product_id can be used",
   "metadata": {
    "tags": [],
    "cell_id": "00017-0a1381f0-029a-42ec-872e-4e1d668e9b89",
    "deepnote_cell_type": "markdown"
   }
  },
  {
   "cell_type": "markdown",
   "source": "## Question 5",
   "metadata": {
    "tags": [],
    "is_collapsed": false,
    "cell_id": "00019-7c4f10cf-60e8-4297-93b9-551f2935753d",
    "deepnote_cell_type": "text-cell-h2"
   }
  },
  {
   "cell_type": "markdown",
   "source": "Name the ID of the products that had more than 20 units bought on august\nTip: Product_id can be used",
   "metadata": {
    "tags": [],
    "cell_id": "00020-6bc6d6b0-87d4-456d-9b65-97fd777a206c",
    "deepnote_cell_type": "markdown"
   }
  },
  {
   "cell_type": "markdown",
   "source": "## Question 6",
   "metadata": {
    "tags": [],
    "is_collapsed": false,
    "cell_id": "00022-e71f8414-34a6-4dda-97e5-0eb77200fcf2",
    "deepnote_cell_type": "text-cell-h2"
   }
  },
  {
   "cell_type": "markdown",
   "source": "What is the product of which I make the orders that on average are larger?",
   "metadata": {
    "tags": [],
    "cell_id": "00023-1292410f-966f-47ed-a6b7-bec0396237eb",
    "deepnote_cell_type": "markdown"
   }
  },
  {
   "cell_type": "markdown",
   "source": "## Question 7 ",
   "metadata": {
    "tags": [],
    "is_collapsed": false,
    "cell_id": "00024-552d1228-ebe9-4e3e-bf89-ad62871d50fe",
    "deepnote_cell_type": "text-cell-h2"
   }
  },
  {
   "cell_type": "markdown",
   "source": "How many purchases were made between August 15 and August 20? ",
   "metadata": {
    "tags": [],
    "cell_id": "00025-0480b465-9a39-4b56-ba65-9138a42864f1",
    "deepnote_cell_type": "markdown"
   }
  },
  {
   "cell_type": "markdown",
   "source": "## Question 8",
   "metadata": {
    "tags": [],
    "is_collapsed": false,
    "cell_id": "00027-f39db868-0205-4803-a5a0-7a51aa653a14",
    "deepnote_cell_type": "text-cell-h2"
   }
  },
  {
   "cell_type": "markdown",
   "source": "Name the product bought in the last purchase",
   "metadata": {
    "tags": [],
    "cell_id": "00028-c25dc7c5-14c6-4315-841c-40af8ebef628",
    "deepnote_cell_type": "markdown"
   }
  },
  {
   "cell_type": "markdown",
   "source": "## Question 9",
   "metadata": {
    "tags": [],
    "is_collapsed": false,
    "cell_id": "00030-ba4e282f-d919-483c-ae48-a5011d37b4ff",
    "deepnote_cell_type": "text-cell-h2"
   }
  },
  {
   "cell_type": "markdown",
   "source": "A box arrived on august 21th, which supplier sent it?",
   "metadata": {
    "tags": [],
    "cell_id": "00031-ed536176-d1c3-4713-b738-a2e3fdf14445",
    "deepnote_cell_type": "markdown"
   }
  },
  {
   "cell_type": "markdown",
   "source": "## Question 10",
   "metadata": {
    "tags": [],
    "is_collapsed": false,
    "cell_id": "00033-a24874cc-e94d-464b-a693-c511dd65860a",
    "deepnote_cell_type": "text-cell-h2"
   }
  },
  {
   "cell_type": "markdown",
   "source": "Generate a list of the supplier with most purchases in each day of the month",
   "metadata": {
    "tags": [],
    "cell_id": "00034-eb9b772d-1630-4280-a85a-dc029a054e26",
    "deepnote_cell_type": "markdown"
   }
  },
  {
   "cell_type": "markdown",
   "source": "<a style='text-decoration:none;line-height:16px;display:flex;color:#5B5B62;padding:10px;justify-content:end;' href='https://deepnote.com?utm_source=created-in-deepnote-cell&projectId=c3e4079d-b65d-4f98-a9c4-e84568c199f2' target=\"_blank\">\n<img alt='Created in deepnote.com' style='display:inline;max-height:16px;margin:0px;margin-right:7.5px;' src='data:image/svg+xml;base64,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' > </img>\nCreated in <span style='font-weight:600;margin-left:4px;'>Deepnote</span></a>",
   "metadata": {
    "tags": [],
    "created_in_deepnote_cell": true,
    "deepnote_cell_type": "markdown"
   }
  }
 ],
 "nbformat": 4,
 "nbformat_minor": 2,
 "metadata": {
  "orig_nbformat": 2,
  "deepnote": {
   "is_reactive": false
  },
  "deepnote_notebook_id": "2aaccc82-deff-4062-820c-2b539dbce486",
  "deepnote_execution_queue": []
 }
}